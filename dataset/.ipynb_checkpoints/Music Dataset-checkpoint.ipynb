{
 "cells": [
  {
   "cell_type": "markdown",
   "metadata": {},
   "source": [
    "## Import libraries"
   ]
  },
  {
   "cell_type": "code",
   "execution_count": 25,
   "metadata": {},
   "outputs": [],
   "source": [
    "## import library for requests\n",
    "import requests\n",
    "\n",
    "## import beautiful soup library\n",
    "from bs4 import BeautifulSoup\n",
    "\n",
    "## import library for convert dict to json\n",
    "import json\n",
    "\n",
    "## Check the URL \n",
    "URL = 'https://en.wikipedia.org/wiki/David_Gilmour'\n",
    "page = requests.get(URL)\n",
    "\n",
    "## save the content in a variable\n",
    "soup = BeautifulSoup(page.content, 'html.parser')\n",
    "\n"
   ]
  },
  {
   "cell_type": "markdown",
   "metadata": {},
   "source": [
    "## Create a function get the data"
   ]
  },
  {
   "cell_type": "code",
   "execution_count": 26,
   "metadata": {},
   "outputs": [],
   "source": [
    "# Create a function for get the data\n",
    "def get_info(musician):\n",
    " \n",
    "  ## Check the URL \n",
    "  URL = 'https://en.wikipedia.org/wiki/'+ musician\n",
    "  page = requests.get(URL)\n",
    "\n",
    "  ## save the content in a variable\n",
    "  soup = BeautifulSoup(page.content, 'html.parser')\n",
    "  \n",
    "  ## Get the table \n",
    "  results = soup.find_all('table', class_='infobox biography vcard')\n",
    "   \n",
    " \n",
    "  #Show the name,birthday,birthplace,roles,instruments and website \n",
    "  for link in results:\n",
    "    name = soup.find(\"div\",class_=\"fn\")\n",
    "    description = soup.find_all(\"p\",limit=2)\n",
    "    bday = soup.find(\"span\",class_=\"bday\")\n",
    "    birthplace = soup.find(\"div\",class_=\"birthplace\")\n",
    "    website = soup.find(\"span\",class_=\"url\")\n",
    "    other_info = soup.find_all(\"div\",class_=\"hlist hlist-separated\")\n",
    "    instruments = soup.find_all(\"td\",class_=\"note\")\n",
    "    roles = soup.find_all('td',class_=\"role\")\n",
    "    other_data = soup.find_all(\"tr\",limit=12)\n",
    "    \n",
    "    musician={}\n",
    "    musician[\"Name\"]=\"{}\".format(name.text)\n",
    "    musician[\"Birthday\"]=\"{}\".format(bday.text)\n",
    "    musician[\"BirthPlace\"]=\"{}\".format(birthplace.text)\n",
    "    \n",
    "    for desc in description:\n",
    "        musician[\"Descripcion\"]=\"{}\".format(desc.text)\n",
    "    \n",
    "    for role in roles:\n",
    "        musician[\"Roles\"]=\"{}\".format(role.text)    \n",
    "  \n",
    "    \n",
    "  \n",
    "    for instrument in instruments:\n",
    "        musician[\"Instruments\"]=\"{}\".format(instrument.text)\n",
    "        \n",
    "    musician_json=json.dumps(musician)    \n",
    "  \n",
    "    print(musician_json)\n"
   ]
  },
  {
   "cell_type": "code",
   "execution_count": 27,
   "metadata": {},
   "outputs": [
    {
     "name": "stdout",
     "output_type": "stream",
     "text": [
      "{\"Name\": \"Elvis Presley\", \"Birthday\": \"1935-01-08\", \"BirthPlace\": \"Tupelo, Mississippi, U.S.\", \"Descripcion\": \"Elvis Aaron Presley[a] (January 8, 1935\\u00a0\\u2013 August 16, 1977), also known simply as Elvis, was an American singer, musician and actor. He is regarded as one of the most significant cultural icons of the 20th century and is often referred to as the \\\"King of Rock and Roll\\\" or simply \\\"the King\\\". His energized interpretations of songs and sexually provocative performance style, combined with a singularly potent mix of influences across color lines during a transformative era in race relations, led him to great success\\u2014and initial controversy.\\n\", \"Roles\": \"\\nSinger\\nactor\\n\", \"Instruments\": \"\\nVocals\\nguitar\\npiano\\n\"}\n"
     ]
    }
   ],
   "source": [
    "get_info(\"Elvis_Presley\")"
   ]
  },
  {
   "cell_type": "code",
   "execution_count": null,
   "metadata": {},
   "outputs": [],
   "source": []
  }
 ],
 "metadata": {
  "kernelspec": {
   "display_name": "Python 3",
   "language": "python",
   "name": "python3"
  },
  "language_info": {
   "codemirror_mode": {
    "name": "ipython",
    "version": 3
   },
   "file_extension": ".py",
   "mimetype": "text/x-python",
   "name": "python",
   "nbconvert_exporter": "python",
   "pygments_lexer": "ipython3",
   "version": "3.7.6"
  }
 },
 "nbformat": 4,
 "nbformat_minor": 4
}
