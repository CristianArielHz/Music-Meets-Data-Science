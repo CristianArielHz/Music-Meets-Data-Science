{
 "cells": [
  {
   "cell_type": "markdown",
   "metadata": {},
   "source": [
    "# MMDS Challenge : Musicians and Zodiac Signs"
   ]
  },
  {
   "cell_type": "markdown",
   "metadata": {},
   "source": [
    "## Questions: \n",
    "\n",
    "### Does exists some zodiac sign who has more propensity to be a musician?\n",
    "### Which zodiac signs are trending?\n",
    "### Does exists any correlation between zodiac sign and a music genre?\n",
    "\n",
    "For solve this questions we need to get information about musicians, his music genres and zodiac signs. For that, we are going to use web scrapping technique in the Wikipedia Page.    "
   ]
  },
  {
   "cell_type": "markdown",
   "metadata": {},
   "source": [
    "## Import libraries"
   ]
  },
  {
   "cell_type": "code",
   "execution_count": 53,
   "metadata": {},
   "outputs": [],
   "source": [
    "## import library for requests\n",
    "import requests\n",
    "\n",
    "## import beautiful soup library\n",
    "from bs4 import BeautifulSoup\n",
    "\n",
    "## import pandas for create dataset\n",
    "import pandas as pd\n",
    "\n",
    "## import library to use for get zodiac sign of artist\n",
    "from bisect import bisect\n",
    "\n",
    "from datetime import datetime\n",
    "from datetime import date\n"
   ]
  },
  {
   "cell_type": "markdown",
   "metadata": {},
   "source": [
    "## Create a function for get the sign of each artist"
   ]
  },
  {
   "cell_type": "code",
   "execution_count": 54,
   "metadata": {},
   "outputs": [],
   "source": [
    "signs = [(1,20,\"Cap\"), (2,18,\"Aqu\"), (3,20,\"Pis\"), (4,20,\"Ari\"),\n",
    "         (5,21,\"Tau\"), (6,21,\"Gem\"), (7,22,\"Can\"), (8,23,\"Leo\"),\n",
    "         (9,23,\"Vir\"), (10,23,\"Lib\"), (11,22,\"Sco\"), (12,22,\"Sag\"),\n",
    "         (12,31,\"Cap\")]\n",
    "def zodiac_sign(m,d):\n",
    "    return signs[bisect(signs,(m,d))][2]"
   ]
  },
  {
   "cell_type": "markdown",
   "metadata": {},
   "source": [
    "## Create a function get the data"
   ]
  },
  {
   "cell_type": "code",
   "execution_count": 62,
   "metadata": {},
   "outputs": [],
   "source": [
    "def get_info(musician):\n",
    " \n",
    "  ## Check the URL \n",
    "  URL = 'https://en.wikipedia.org/wiki/'+ musician.replace(\" \",\"_\")\n",
    "  print(\"Buscando: \" + URL)\n",
    "  page = requests.get(URL)\n",
    "\n",
    "  if page.status_code == 200:\n",
    "     ## save the content in a variable\n",
    "     soup = BeautifulSoup(page.content, 'html.parser')\n",
    "  \n",
    "     ## Get the table \n",
    "     # posible class tables : \"infobox biography vcard\",\"infobox vcard plainlist\"  \n",
    "     results = soup.find_all('table', class_='infobox biography vcard') \n",
    " \n",
    "        \n",
    "     if results ==[]:\n",
    "        results = soup.find_all('table', class_='infobox vcard plainlist')\n",
    "    \n",
    "  \n",
    "     #Show the name,birthday and sign\n",
    "     for link in results:\n",
    "        name = soup.find(\"div\",class_=\"fn\")\n",
    "        description = soup.find_all(\"p\",limit=2)\n",
    "        bday = soup.find(\"span\",class_=\"bday\")\n",
    "      \n",
    "        #Convert bday to datetime\n",
    "        date_bday = datetime.strptime(bday.text,'%Y-%m-%d')\n",
    "    \n",
    "        artists = []\n",
    "        musician={}\n",
    "        musician[\"Name\"]=\"{}\".format(name.text)\n",
    "        musician[\"Birthday\"]=\"{}\".format(bday.text)\n",
    "        musician[\"Sign\"]=\"{}\".format(zodiac_sign(date_bday.month,date_bday.day))  \n",
    " \n",
    "        return musician\n",
    "  else:\n",
    "    print(\"page not found\" + page.status_code)"
   ]
  },
  {
   "cell_type": "code",
   "execution_count": 56,
   "metadata": {},
   "outputs": [],
   "source": [
    "# create a dataset \n",
    "artists=[\"Jimi_Hendrix\",\"Joss_Stone\",\"David_Gilmour\",\"Carlos_Santana\",\"Stevie_Ray_Vaughan\",\"Gustavo_Cerati\",\"Carlos_Gardel\",]\n",
    "\n",
    "list_artists=[]\n",
    "for artist in artists:\n",
    "    info = get_info(artist)   \n",
    "    list_artists.append(info)"
   ]
  },
  {
   "cell_type": "code",
   "execution_count": 57,
   "metadata": {},
   "outputs": [],
   "source": [
    "data = pd.DataFrame.from_dict(list_artists)"
   ]
  },
  {
   "cell_type": "code",
   "execution_count": 58,
   "metadata": {},
   "outputs": [
    {
     "data": {
      "text/html": [
       "<div>\n",
       "<style scoped>\n",
       "    .dataframe tbody tr th:only-of-type {\n",
       "        vertical-align: middle;\n",
       "    }\n",
       "\n",
       "    .dataframe tbody tr th {\n",
       "        vertical-align: top;\n",
       "    }\n",
       "\n",
       "    .dataframe thead th {\n",
       "        text-align: right;\n",
       "    }\n",
       "</style>\n",
       "<table border=\"1\" class=\"dataframe\">\n",
       "  <thead>\n",
       "    <tr style=\"text-align: right;\">\n",
       "      <th></th>\n",
       "      <th>Name</th>\n",
       "      <th>Birthday</th>\n",
       "      <th>Sign</th>\n",
       "    </tr>\n",
       "  </thead>\n",
       "  <tbody>\n",
       "    <tr>\n",
       "      <th>0</th>\n",
       "      <td>Jimi Hendrix</td>\n",
       "      <td>1942-11-27</td>\n",
       "      <td>Sag</td>\n",
       "    </tr>\n",
       "    <tr>\n",
       "      <th>1</th>\n",
       "      <td>Joss Stone</td>\n",
       "      <td>1987-04-11</td>\n",
       "      <td>Ari</td>\n",
       "    </tr>\n",
       "    <tr>\n",
       "      <th>2</th>\n",
       "      <td>David Gilmour</td>\n",
       "      <td>1946-03-06</td>\n",
       "      <td>Pis</td>\n",
       "    </tr>\n",
       "    <tr>\n",
       "      <th>3</th>\n",
       "      <td>Carlos Santana</td>\n",
       "      <td>1947-07-20</td>\n",
       "      <td>Can</td>\n",
       "    </tr>\n",
       "    <tr>\n",
       "      <th>4</th>\n",
       "      <td>Stevie Ray Vaughan</td>\n",
       "      <td>1954-10-03</td>\n",
       "      <td>Lib</td>\n",
       "    </tr>\n",
       "    <tr>\n",
       "      <th>5</th>\n",
       "      <td>Gustavo Cerati</td>\n",
       "      <td>1959-08-11</td>\n",
       "      <td>Leo</td>\n",
       "    </tr>\n",
       "    <tr>\n",
       "      <th>6</th>\n",
       "      <td>Carlos Gardel</td>\n",
       "      <td>1890-12-11</td>\n",
       "      <td>Sag</td>\n",
       "    </tr>\n",
       "  </tbody>\n",
       "</table>\n",
       "</div>"
      ],
      "text/plain": [
       "                 Name    Birthday Sign\n",
       "0        Jimi Hendrix  1942-11-27  Sag\n",
       "1          Joss Stone  1987-04-11  Ari\n",
       "2       David Gilmour  1946-03-06  Pis\n",
       "3      Carlos Santana  1947-07-20  Can\n",
       "4  Stevie Ray Vaughan  1954-10-03  Lib\n",
       "5      Gustavo Cerati  1959-08-11  Leo\n",
       "6       Carlos Gardel  1890-12-11  Sag"
      ]
     },
     "execution_count": 58,
     "metadata": {},
     "output_type": "execute_result"
    }
   ],
   "source": [
    "data.head(10)"
   ]
  },
  {
   "cell_type": "code",
   "execution_count": 79,
   "metadata": {
    "scrolled": false
   },
   "outputs": [
    {
     "name": "stdout",
     "output_type": "stream",
     "text": [
      "Jimi Hendrix\n",
      "B.B King\n",
      "Howlin Wolf\n",
      "Robert Johnson\n",
      "John Lee Hooker\n",
      "Mozart\n",
      "Chopin\n",
      "Debussy\n",
      "Wilson Picket\n",
      "Oscar Peterson\n",
      "Carlos Gardel\n",
      "Astor Piazzola\n",
      "Mariano Mores\n",
      "Atahualpa Yupanqui\n",
      "Ricardo Mollo\n",
      "Jaco Pastorius\n",
      "Pedro Aznar\n",
      "Steve Ray Vaughan\n",
      "Jaco Pastorius\n",
      "David Gilmour\n",
      "Janis Joplin\n",
      "Bob Dylan\n",
      "Steven Tylor\n",
      "Brian Johnson\n",
      "Slash\n",
      "Eddie Vedder\n",
      "John Lord\n",
      "Billy Gibboons\n",
      "Zack Wild\n",
      "Elvis Presley\n",
      "Ringo Starr\n",
      "John Lennon\n",
      "Paul Mc Cartney\n",
      "George Harrison\n",
      "Alanis Morrisete\n",
      "James Hetfield\n",
      "Robert Trujillo\n",
      "Lars Ulrich\n",
      "Sandro\n",
      "Pappo\n",
      "Joe Satriani\n",
      "Joe Buonamassa\n",
      "Richie Sambora\n",
      "Carlos Santana\n",
      "Ruben Gonzalez\n",
      "Bebo Valdez\n",
      "Don Omar\n",
      "Daddy Yankee\n",
      "Paulina Rubio\n",
      "Shakira\n",
      "Breatney Spears\n",
      "Christina Aguilera\n",
      "Bootsy Collins\n",
      "James Brown\n",
      "Joss Stone\n",
      "Mandy Moore\n",
      "Nick Carter\n",
      "Justin Timberlake\n",
      "Drake\n",
      "Pharrel Williams\n",
      "Michael Jackson\n",
      "Robert Plant\n",
      "Victor Wooten\n",
      "John Mayall\n",
      "John Meyer\n",
      "Tito Gonzales\n",
      "Gustavo Cerati\n",
      "Andres Calamaro\n",
      "Fito Paez\n",
      "Charly Garcia\n",
      "Ciro Martinez\n",
      "Guillermo Vadalá\n",
      "Luis Salinas\n",
      "Mercedes Sosa\n",
      "Luis Alberto Spinneta\n",
      "Dante Spinneta\n",
      "Don Airey\n",
      "Roger Waters\n",
      "Madonna\n",
      "Luis Fonsi\n",
      "Steve Morse\n",
      "Robben Ford\n",
      "Billy Joe Armstrong\n",
      "Louis Armstrong\n",
      "Ella Fitzgerald\n",
      "Toquinho\n",
      "Tom Jobin\n",
      "Gilberto Gil\n",
      "Maria Creuza\n",
      "Dave Grohl\n",
      "Kurt Kobain\n",
      "Amy Winehouse\n",
      "Jim Morrison\n",
      "Bruno Mars\n",
      "Steve Vai\n",
      "Stevie Wonder\n",
      "Bob Marley\n"
     ]
    }
   ],
   "source": [
    "# Print list of musicians for the test\n",
    "mf =  open(\"musicians.txt\",\"r\")\n",
    "for x in mf:\n",
    "    print(x.strip())    "
   ]
  }
 ],
 "metadata": {
  "kernelspec": {
   "display_name": "Python 3",
   "language": "python",
   "name": "python3"
  },
  "language_info": {
   "codemirror_mode": {
    "name": "ipython",
    "version": 3
   },
   "file_extension": ".py",
   "mimetype": "text/x-python",
   "name": "python",
   "nbconvert_exporter": "python",
   "pygments_lexer": "ipython3",
   "version": "3.7.6"
  }
 },
 "nbformat": 4,
 "nbformat_minor": 4
}
