{
 "cells": [
  {
   "cell_type": "markdown",
   "metadata": {},
   "source": [
    "## Explore the Wikipedia structure"
   ]
  },
  {
   "cell_type": "markdown",
   "metadata": {},
   "source": [
    "<table class=\"infobox biography vcard\" style=\"width:22em\"><tbody><tr><th colspan=\"2\" style=\"text-align:center;font-size:125%;font-weight:bold\"><div class=\"fn\" style=\"display:inline\">Eric Clapton</div><br><div class=\"honorific-suffix\" style=\"font-size: 77%; font-weight: normal; display:inline;\"><span class=\"noexcerpt nowraplinks\" style=\"font-size:100%;\"><a href=\"/wiki/Commander_of_the_Order_of_the_British_Empire\" class=\"mw-redirect\" title=\"Commander of the Order of the British Empire\">CBE</a></span></div></th></tr><tr><td colspan=\"2\" style=\"text-align:center\"><a href=\"/wiki/File:Eric_Clapton_-_Royal_Albert_Hall_-_Wednesday_24th_May_2017_EricClaptonRAH240517-30_(34987232355)_(cropped).jpg\" class=\"image\"><img alt=\"Eric Clapton - Royal Albert Hall - Wednesday 24th May 2017 EricClaptonRAH240517-30 (34987232355) (cropped).jpg\" src=\"//upload.wikimedia.org/wikipedia/commons/thumb/0/0a/Eric_Clapton_-_Royal_Albert_Hall_-_Wednesday_24th_May_2017_EricClaptonRAH240517-30_%2834987232355%29_%28cropped%29.jpg/250px-Eric_Clapton_-_Royal_Albert_Hall_-_Wednesday_24th_May_2017_EricClaptonRAH240517-30_%2834987232355%29_%28cropped%29.jpg\" decoding=\"async\" srcset=\"//upload.wikimedia.org/wikipedia/commons/thumb/0/0a/Eric_Clapton_-_Royal_Albert_Hall_-_Wednesday_24th_May_2017_EricClaptonRAH240517-30_%2834987232355%29_%28cropped%29.jpg/375px-Eric_Clapton_-_Royal_Albert_Hall_-_Wednesday_24th_May_2017_EricClaptonRAH240517-30_%2834987232355%29_%28cropped%29.jpg 1.5x, //upload.wikimedia.org/wikipedia/commons/thumb/0/0a/Eric_Clapton_-_Royal_Albert_Hall_-_Wednesday_24th_May_2017_EricClaptonRAH240517-30_%2834987232355%29_%28cropped%29.jpg/500px-Eric_Clapton_-_Royal_Albert_Hall_-_Wednesday_24th_May_2017_EricClaptonRAH240517-30_%2834987232355%29_%28cropped%29.jpg 2x\" data-file-width=\"1207\" data-file-height=\"1336\" width=\"250\" height=\"277\"></a><div>Clapton performing at the <a href=\"/wiki/Royal_Albert_Hall\" title=\"Royal Albert Hall\">Royal Albert Hall</a> in May 2017</div></td></tr><tr><th scope=\"row\">Born</th><td><div style=\"display:inline\" class=\"nickname\">Eric Patrick Clapton</div><br><span style=\"display:none\"> (<span class=\"bday\">1945-03-30</span>) </span>30 March 1945<span class=\"noprint ForceAgeToShow\"> (age&nbsp;75)</span><br><div style=\"display:inline\" class=\"birthplace\"><a href=\"/wiki/Ripley,_Surrey\" title=\"Ripley, Surrey\">Ripley, Surrey</a>, England</div></td></tr><tr><th scope=\"row\">Occupation</th><td class=\"role\"><div class=\"hlist hlist-separated\">\n",
    "<ul><li>Musician</li>\n",
    "<li>singer</li>\n",
    "<li>songwriter</li>\n",
    "<li>record producer</li></ul>\n",
    "</div></td></tr><tr><th scope=\"row\">Years&nbsp;active</th><td>1962–present</td></tr><tr><th scope=\"row\"><span class=\"nowrap\">Spouse(s)</span></th><td><div class=\"plainlist\">\n",
    "<ul><li class=\"mw-empty-elt\"></li></ul>\n",
    "<div style=\"display:inline;white-space:nowrap;\"><div style=\"display:inline-block;line-height:normal;margin-top:1px;white-space:normal;\"><a href=\"/wiki/Pattie_Boyd\" title=\"Pattie Boyd\">Pattie Boyd</a></div>\n",
    "   <div style=\"line-height:0;margin-bottom:-2px;\">​</div> <div style=\"display:inline-block;margin-bottom:1px;\">​</div>(<abbr title=\"married\">m.</abbr>&nbsp;1979; <abbr title=\"divorced\">div.</abbr>&nbsp;1989)<wbr>​</div><sup id=\"cite_ref-1\" class=\"reference\"><a href=\"#cite_note-1\">[1]</a></sup>\n",
    "<ul><li class=\"mw-empty-elt\"></li></ul>\n",
    "<div style=\"display:inline;white-space:nowrap;\"><div style=\"display:inline-block;line-height:normal;\">Melia McEnery</div> <div style=\"display:inline-block;\">​</div>(<abbr title=\"married\">m.</abbr>&nbsp;2002)<wbr>​</div>\n",
    "</div></td></tr><tr><th scope=\"row\">Children</th><td>5</td></tr><tr><td colspan=\"2\" style=\"text-align:center\"><b>Musical career</b></td></tr><tr><th scope=\"row\">Genres</th><td><div class=\"hlist hlist-separated\">\n",
    "<ul><li><a href=\"/wiki/Rock_music\" title=\"Rock music\">Rock</a></li>\n",
    "<li><a href=\"/wiki/Blues\" title=\"Blues\">blues</a></li></ul>\n",
    "</div></td></tr><tr><th scope=\"row\">Instruments</th><td class=\"note\"><div class=\"hlist hlist-separated\">\n",
    "<ul><li>Guitar</li>\n",
    "<li>vocals</li></ul>\n",
    "</div></td></tr><tr><th scope=\"row\">Labels</th><td><div class=\"hlist hlist-separated\">\n",
    "<ul><li><a href=\"/wiki/Polydor_Records\" title=\"Polydor Records\">Polydor</a></li>\n",
    "<li><a href=\"/wiki/Atco_Records\" title=\"Atco Records\">Atco</a></li>\n",
    "<li><a href=\"/wiki/RSO_Records\" title=\"RSO Records\">RSO</a></li>\n",
    "<li><a href=\"/wiki/Warner_Bros._Records\" class=\"mw-redirect\" title=\"Warner Bros. Records\">Warner Bros.</a></li>\n",
    "<li><a href=\"/wiki/Duck_Records\" class=\"mw-redirect\" title=\"Duck Records\">Duck</a></li>\n",
    "<li><a href=\"/wiki/Reprise_Records\" title=\"Reprise Records\">Reprise</a></li>\n",
    "<li><a href=\"/wiki/Surfdog_Records\" title=\"Surfdog Records\">Surfdog</a></li></ul>\n",
    "</div></td></tr><tr><th scope=\"row\"><span class=\"nowrap\">Associated acts</span></th><td><div class=\"hlist hlist-separated\">\n",
    "<ul><li><a href=\"/wiki/The_Yardbirds\" title=\"The Yardbirds\">The Yardbirds</a></li>\n",
    "<li><a href=\"/wiki/John_Mayall_%26_the_Bluesbreakers\" title=\"John Mayall &amp; the Bluesbreakers\">John Mayall &amp; the Bluesbreakers</a></li>\n",
    "<li><a href=\"/wiki/Cream_(band)\" title=\"Cream (band)\">Cream</a></li>\n",
    "<li><a href=\"/wiki/George_Harrison\" title=\"George Harrison\">George Harrison</a></li>\n",
    "<li><a href=\"/wiki/Plastic_Ono_Band\" title=\"Plastic Ono Band\">Plastic Ono Band</a></li>\n",
    "<li><a href=\"/wiki/Blind_Faith\" title=\"Blind Faith\">Blind Faith</a></li>\n",
    "<li><a href=\"/wiki/Delaney_%26_Bonnie_and_Friends\" class=\"mw-redirect\" title=\"Delaney &amp; Bonnie and Friends\">Delaney &amp; Bonnie and Friends</a></li>\n",
    "<li><a href=\"/wiki/Derek_and_the_Dominos\" title=\"Derek and the Dominos\">Derek and the Dominos</a></li>\n",
    "<li><a href=\"/wiki/J._J._Cale\" title=\"J. J. Cale\">J. J. Cale</a></li>\n",
    "<li><a href=\"/wiki/B.B._King\" title=\"B.B. King\">B.B. King</a></li></ul>\n",
    "</div></td></tr><tr><td colspan=\"2\"></td></tr><tr><th scope=\"row\">Website</th><td><span class=\"url\"><a rel=\"nofollow\" class=\"external text\" href=\"http://ericclapton.com\">ericclapton<wbr>.com</a></span></td></tr></tbody></table>"
   ]
  },
  {
   "cell_type": "markdown",
   "metadata": {},
   "source": [
    "## Import libraries"
   ]
  },
  {
   "cell_type": "code",
   "execution_count": 82,
   "metadata": {},
   "outputs": [],
   "source": [
    "## import library for requests\n",
    "import requests\n",
    "\n",
    "## import beautiful soup library\n",
    "from bs4 import BeautifulSoup\n",
    "\n",
    "\n",
    "## Check the URL \n",
    "URL = 'https://en.wikipedia.org/wiki/Eric Clapton'\n",
    "page = requests.get(URL)\n",
    "\n",
    "## save the content in a variable\n",
    "soup = BeautifulSoup(page.content, 'html.parser')\n",
    "\n"
   ]
  },
  {
   "cell_type": "markdown",
   "metadata": {},
   "source": [
    "## Check the structure information"
   ]
  },
  {
   "cell_type": "markdown",
   "metadata": {},
   "source": [
    "###  Get the info\n",
    "<table class=\"infobox biography vcard\" style=\"width:22em\"><tbody><tr><th colspan=\"2\" style=\"text-align:center;font-size:125%;font-weight:bold\"><div class=\"fn\" style=\"display:inline\">Eric Clapton</div>\n",
    "\n",
    "<tr><th scope=\"row\">Born</th><td><div style=\"display:inline\" class=\"nickname\">Eric Patrick Clapton</div><br><span style=\"display:none\"> (<span class=\"bday\">1945-03-30</span>) </span>30 March 1945<span class=\"noprint ForceAgeToShow\"> (age&nbsp;75)</span><br><div style=\"display:inline\" class=\"birthplace\"><a href=\"/wiki/Ripley,_Surrey\" title=\"Ripley, Surrey\">Ripley, Surrey</a>, England</div></td></tr><tr><th scope=\"row\">Occupation</th><td class=\"role\"><div class=\"hlist hlist-separated\">\n",
    "<ul><li>Musician</li>\n",
    "<li>singer</li>\n",
    "<li>songwriter</li>\n",
    "<li>record producer</li></ul>\n"
   ]
  },
  {
   "cell_type": "code",
   "execution_count": 83,
   "metadata": {},
   "outputs": [],
   "source": [
    "results = soup.find_all('table', class_='infobox biography vcard')\n",
    "\n"
   ]
  },
  {
   "cell_type": "code",
   "execution_count": 84,
   "metadata": {},
   "outputs": [
    {
     "name": "stdout",
     "output_type": "stream",
     "text": [
      "Name: Eric Clapton\n",
      "\n",
      "Birthday: 1945-03-30\n",
      "\n",
      "BirthPlace: Ripley, Surrey, England\n",
      "\n",
      "Roles: \n",
      "Musician\n",
      "singer\n",
      "songwriter\n",
      "record producer\n",
      "\n",
      "\n",
      "Instruments: \n",
      "Guitar\n",
      "vocals\n",
      "\n",
      "\n",
      "Other info: \n",
      "Musician\n",
      "singer\n",
      "songwriter\n",
      "record producer\n",
      "\n",
      "\n",
      "Other info: \n",
      "Rock\n",
      "blues\n",
      "\n",
      "\n",
      "Other info: \n",
      "Guitar\n",
      "vocals\n",
      "\n",
      "\n",
      "Other info: \n",
      "Polydor\n",
      "Atco\n",
      "RSO\n",
      "Warner Bros.\n",
      "Duck\n",
      "Reprise\n",
      "Surfdog\n",
      "\n",
      "\n",
      "Other info: \n",
      "The Yardbirds\n",
      "John Mayall & the Bluesbreakers\n",
      "Cream\n",
      "George Harrison\n",
      "Plastic Ono Band\n",
      "Blind Faith\n",
      "Delaney & Bonnie and Friends\n",
      "Derek and the Dominos\n",
      "J. J. Cale\n",
      "B.B. King\n",
      "\n",
      "\n",
      "Url: http://ericclapton.com\n",
      "\n"
     ]
    }
   ],
   "source": [
    "\n",
    "#Show the name and birthday\n",
    "for link in results:\n",
    "    name = soup.find(\"div\",class_=\"fn\")\n",
    "    bday = soup.find(\"span\",class_=\"bday\")\n",
    "    birthplace = soup.find(\"div\",class_=\"birthplace\")\n",
    "    website = soup.find(\"span\",class_=\"url\")\n",
    "    Performers = soup.find(\"span\",class_=\"nowrap\")\n",
    "        \n",
    "    print(\"Name: {}\".format(name.text), end='\\n'*2)\n",
    "    print(\"Birthday: {}\".format(bday.text), end='\\n'*2)\n",
    "    print(\"BirthPlace: {}\".format(birthplace.text),end='\\n'*2)\n",
    "   \n",
    "    \n",
    "  \n",
    "for role in soup.find_all('td',class_=\"role\"):\n",
    "    print(\"Roles: {}\".format(role.text),end='\\n'*2)\n",
    "    \n",
    "for note in soup.find_all(\"td\",class_=\"note\"):\n",
    "    print(\"Instruments: {}\".format(note.text),end='\\n'*2)\n",
    "    \n",
    "for label in soup.find_all(\"div\",class_=\"hlist hlist-separated\"):        \n",
    "    print(\"Other info: {}\".format(label.text),end='\\n'*2)    \n",
    "\n",
    "for url in website:\n",
    "    print(\"Url: {}\".format(url.get(\"href\")),end='\\n'*2)\n",
    "        \n"
   ]
  },
  {
   "cell_type": "code",
   "execution_count": null,
   "metadata": {},
   "outputs": [],
   "source": []
  },
  {
   "cell_type": "code",
   "execution_count": null,
   "metadata": {},
   "outputs": [],
   "source": []
  },
  {
   "cell_type": "code",
   "execution_count": null,
   "metadata": {},
   "outputs": [],
   "source": []
  }
 ],
 "metadata": {
  "kernelspec": {
   "display_name": "Python 3",
   "language": "python",
   "name": "python3"
  },
  "language_info": {
   "codemirror_mode": {
    "name": "ipython",
    "version": 3
   },
   "file_extension": ".py",
   "mimetype": "text/x-python",
   "name": "python",
   "nbconvert_exporter": "python",
   "pygments_lexer": "ipython3",
   "version": "3.7.6"
  }
 },
 "nbformat": 4,
 "nbformat_minor": 4
}
