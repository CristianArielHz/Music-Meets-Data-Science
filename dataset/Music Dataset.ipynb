{
 "cells": [
  {
   "cell_type": "markdown",
   "metadata": {},
   "source": [
    "## Import libraries"
   ]
  },
  {
   "cell_type": "code",
   "execution_count": 183,
   "metadata": {},
   "outputs": [],
   "source": [
    "## import library for requests\n",
    "import requests\n",
    "\n",
    "## import beautiful soup library\n",
    "from bs4 import BeautifulSoup\n",
    "\n",
    "\n",
    "## Check the URL \n",
    "URL = 'https://en.wikipedia.org/wiki/David_Gilmour'\n",
    "page = requests.get(URL)\n",
    "\n",
    "## save the content in a variable\n",
    "soup = BeautifulSoup(page.content, 'html.parser')\n",
    "\n"
   ]
  },
  {
   "cell_type": "markdown",
   "metadata": {},
   "source": [
    "## Check the structure information"
   ]
  },
  {
   "cell_type": "code",
   "execution_count": 184,
   "metadata": {},
   "outputs": [],
   "source": [
    "results = soup.find_all('table', class_='infobox biography vcard')\n",
    "\n"
   ]
  },
  {
   "cell_type": "code",
   "execution_count": null,
   "metadata": {},
   "outputs": [],
   "source": [
    "\n",
    "#Show the name,birthday,birthplace,roles,instruments and website \n",
    "for link in results:\n",
    "    name = soup.find(\"div\",class_=\"fn\")\n",
    "    description = soup.find_all(\"p\",limit=2)\n",
    "    bday = soup.find(\"span\",class_=\"bday\")\n",
    "    birthplace = soup.find(\"div\",class_=\"birthplace\")\n",
    "    website = soup.find(\"span\",class_=\"url\")\n",
    "    other_info = soup.find_all(\"div\",class_=\"hlist hlist-separated\")\n",
    "    instruments = soup.find_all(\"td\",class_=\"note\")\n",
    "    roles = soup.find_all('td',class_=\"role\")\n",
    "    other_data = soup.find_all(\"tr\",limit=15)\n",
    "        \n",
    "    print(\"Name: {}\".format(name.text), end='\\n'*2)\n",
    "    print(\"Birthday: {}\".format(bday.text), end='\\n'*2)\n",
    "    print(\"BirthPlace: {}\".format(birthplace.text),end='\\n'*2)\n",
    "   \n",
    "print(\"Description:\")\n",
    "\n",
    "for desc in description:\n",
    "    print(\"{}\".format(desc.text),end='\\n'*2)\n",
    "  \n",
    "\n",
    "for role in roles:\n",
    "    print(\"Roles: {}\".format(role.text),end='\\n'*2)\n",
    "    \n",
    "for instrument in instruments:\n",
    "    print(\"Instruments: {}\".format(instrument.text),end='\\n'*2)\n",
    "  \n",
    "\n",
    "for url in website:\n",
    "    print(\"Url: {}\".format(url.get(\"href\")),end='\\n'*2)\n",
    "\n",
    "print(\"other data:\")    \n",
    "for dat in other_data:\n",
    "    print(\"{}\".format(dat.text))"
   ]
  },
  {
   "cell_type": "code",
   "execution_count": null,
   "metadata": {},
   "outputs": [],
   "source": [
    "# Create a function for get the data\n",
    "def get_info(musician):\n",
    "    return print(musician)\n",
    "    \n",
    "get_info(\"Stevie_Wonder\")\n",
    " \n",
    "    \n"
   ]
  },
  {
   "cell_type": "code",
   "execution_count": null,
   "metadata": {},
   "outputs": [],
   "source": []
  },
  {
   "cell_type": "code",
   "execution_count": null,
   "metadata": {},
   "outputs": [],
   "source": []
  },
  {
   "cell_type": "code",
   "execution_count": null,
   "metadata": {},
   "outputs": [],
   "source": []
  },
  {
   "cell_type": "code",
   "execution_count": null,
   "metadata": {},
   "outputs": [],
   "source": []
  }
 ],
 "metadata": {
  "kernelspec": {
   "display_name": "Python 3",
   "language": "python",
   "name": "python3"
  },
  "language_info": {
   "codemirror_mode": {
    "name": "ipython",
    "version": 3
   },
   "file_extension": ".py",
   "mimetype": "text/x-python",
   "name": "python",
   "nbconvert_exporter": "python",
   "pygments_lexer": "ipython3",
   "version": "3.7.6"
  }
 },
 "nbformat": 4,
 "nbformat_minor": 4
}
