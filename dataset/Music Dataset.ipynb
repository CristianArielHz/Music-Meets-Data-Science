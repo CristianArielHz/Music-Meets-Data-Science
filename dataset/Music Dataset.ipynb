{
 "cells": [
  {
   "cell_type": "markdown",
   "metadata": {},
   "source": [
    "## Explore the Wikipedia structure"
   ]
  },
  {
   "cell_type": "raw",
   "metadata": {},
   "source": [
    "<table class=\"infobox biography vcard\" style=\"width:22em\"><tbody><tr><th colspan=\"2\" style=\"text-align:center;font-size:125%;font-weight:bold\"><div class=\"fn\" style=\"display:inline\">Eric Clapton</div><br><div class=\"honorific-suffix\" style=\"font-size: 77%; font-weight: normal; display:inline;\"><span class=\"noexcerpt nowraplinks\" style=\"font-size:100%;\"><a href=\"/wiki/Commander_of_the_Order_of_the_British_Empire\" class=\"mw-redirect\" title=\"Commander of the Order of the British Empire\">CBE</a></span></div></th></tr><tr><td colspan=\"2\" style=\"text-align:center\"><a href=\"/wiki/File:Eric_Clapton_-_Royal_Albert_Hall_-_Wednesday_24th_May_2017_EricClaptonRAH240517-30_(34987232355)_(cropped).jpg\" class=\"image\"><img alt=\"Eric Clapton - Royal Albert Hall - Wednesday 24th May 2017 EricClaptonRAH240517-30 (34987232355) (cropped).jpg\" src=\"//upload.wikimedia.org/wikipedia/commons/thumb/0/0a/Eric_Clapton_-_Royal_Albert_Hall_-_Wednesday_24th_May_2017_EricClaptonRAH240517-30_%2834987232355%29_%28cropped%29.jpg/250px-Eric_Clapton_-_Royal_Albert_Hall_-_Wednesday_24th_May_2017_EricClaptonRAH240517-30_%2834987232355%29_%28cropped%29.jpg\" decoding=\"async\" srcset=\"//upload.wikimedia.org/wikipedia/commons/thumb/0/0a/Eric_Clapton_-_Royal_Albert_Hall_-_Wednesday_24th_May_2017_EricClaptonRAH240517-30_%2834987232355%29_%28cropped%29.jpg/375px-Eric_Clapton_-_Royal_Albert_Hall_-_Wednesday_24th_May_2017_EricClaptonRAH240517-30_%2834987232355%29_%28cropped%29.jpg 1.5x, //upload.wikimedia.org/wikipedia/commons/thumb/0/0a/Eric_Clapton_-_Royal_Albert_Hall_-_Wednesday_24th_May_2017_EricClaptonRAH240517-30_%2834987232355%29_%28cropped%29.jpg/500px-Eric_Clapton_-_Royal_Albert_Hall_-_Wednesday_24th_May_2017_EricClaptonRAH240517-30_%2834987232355%29_%28cropped%29.jpg 2x\" data-file-width=\"1207\" data-file-height=\"1336\" width=\"250\" height=\"277\"></a><div>Clapton performing at the <a href=\"/wiki/Royal_Albert_Hall\" title=\"Royal Albert Hall\">Royal Albert Hall</a> in May 2017</div></td></tr><tr><th scope=\"row\">Born</th><td><div style=\"display:inline\" class=\"nickname\">Eric Patrick Clapton</div><br><span style=\"display:none\"> (<span class=\"bday\">1945-03-30</span>) </span>30 March 1945<span class=\"noprint ForceAgeToShow\"> (age&nbsp;75)</span><br><div style=\"display:inline\" class=\"birthplace\"><a href=\"/wiki/Ripley,_Surrey\" title=\"Ripley, Surrey\">Ripley, Surrey</a>, England</div></td></tr><tr><th scope=\"row\">Occupation</th><td class=\"role\"><div class=\"hlist hlist-separated\">\n",
    "<ul><li>Musician</li>\n",
    "<li>singer</li>\n",
    "<li>songwriter</li>\n",
    "<li>record producer</li></ul>\n",
    "</div></td></tr><tr><th scope=\"row\">Years&nbsp;active</th><td>1962–present</td></tr><tr><th scope=\"row\"><span class=\"nowrap\">Spouse(s)</span></th><td><div class=\"plainlist\">\n",
    "<ul><li class=\"mw-empty-elt\"></li></ul>\n",
    "<div style=\"display:inline;white-space:nowrap;\"><div style=\"display:inline-block;line-height:normal;margin-top:1px;white-space:normal;\"><a href=\"/wiki/Pattie_Boyd\" title=\"Pattie Boyd\">Pattie Boyd</a></div>\n",
    "   <div style=\"line-height:0;margin-bottom:-2px;\">​</div> <div style=\"display:inline-block;margin-bottom:1px;\">​</div>(<abbr title=\"married\">m.</abbr>&nbsp;1979; <abbr title=\"divorced\">div.</abbr>&nbsp;1989)<wbr>​</div><sup id=\"cite_ref-1\" class=\"reference\"><a href=\"#cite_note-1\">[1]</a></sup>\n",
    "<ul><li class=\"mw-empty-elt\"></li></ul>\n",
    "<div style=\"display:inline;white-space:nowrap;\"><div style=\"display:inline-block;line-height:normal;\">Melia McEnery</div> <div style=\"display:inline-block;\">​</div>(<abbr title=\"married\">m.</abbr>&nbsp;2002)<wbr>​</div>\n",
    "</div></td></tr><tr><th scope=\"row\">Children</th><td>5</td></tr><tr><td colspan=\"2\" style=\"text-align:center\"><b>Musical career</b></td></tr><tr><th scope=\"row\">Genres</th><td><div class=\"hlist hlist-separated\">\n",
    "<ul><li><a href=\"/wiki/Rock_music\" title=\"Rock music\">Rock</a></li>\n",
    "<li><a href=\"/wiki/Blues\" title=\"Blues\">blues</a></li></ul>\n",
    "</div></td></tr><tr><th scope=\"row\">Instruments</th><td class=\"note\"><div class=\"hlist hlist-separated\">\n",
    "<ul><li>Guitar</li>\n",
    "<li>vocals</li></ul>\n",
    "</div></td></tr><tr><th scope=\"row\">Labels</th><td><div class=\"hlist hlist-separated\">\n",
    "<ul><li><a href=\"/wiki/Polydor_Records\" title=\"Polydor Records\">Polydor</a></li>\n",
    "<li><a href=\"/wiki/Atco_Records\" title=\"Atco Records\">Atco</a></li>\n",
    "<li><a href=\"/wiki/RSO_Records\" title=\"RSO Records\">RSO</a></li>\n",
    "<li><a href=\"/wiki/Warner_Bros._Records\" class=\"mw-redirect\" title=\"Warner Bros. Records\">Warner Bros.</a></li>\n",
    "<li><a href=\"/wiki/Duck_Records\" class=\"mw-redirect\" title=\"Duck Records\">Duck</a></li>\n",
    "<li><a href=\"/wiki/Reprise_Records\" title=\"Reprise Records\">Reprise</a></li>\n",
    "<li><a href=\"/wiki/Surfdog_Records\" title=\"Surfdog Records\">Surfdog</a></li></ul>\n",
    "</div></td></tr><tr><th scope=\"row\"><span class=\"nowrap\">Associated acts</span></th><td><div class=\"hlist hlist-separated\">\n",
    "<ul><li><a href=\"/wiki/The_Yardbirds\" title=\"The Yardbirds\">The Yardbirds</a></li>\n",
    "<li><a href=\"/wiki/John_Mayall_%26_the_Bluesbreakers\" title=\"John Mayall &amp; the Bluesbreakers\">John Mayall &amp; the Bluesbreakers</a></li>\n",
    "<li><a href=\"/wiki/Cream_(band)\" title=\"Cream (band)\">Cream</a></li>\n",
    "<li><a href=\"/wiki/George_Harrison\" title=\"George Harrison\">George Harrison</a></li>\n",
    "<li><a href=\"/wiki/Plastic_Ono_Band\" title=\"Plastic Ono Band\">Plastic Ono Band</a></li>\n",
    "<li><a href=\"/wiki/Blind_Faith\" title=\"Blind Faith\">Blind Faith</a></li>\n",
    "<li><a href=\"/wiki/Delaney_%26_Bonnie_and_Friends\" class=\"mw-redirect\" title=\"Delaney &amp; Bonnie and Friends\">Delaney &amp; Bonnie and Friends</a></li>\n",
    "<li><a href=\"/wiki/Derek_and_the_Dominos\" title=\"Derek and the Dominos\">Derek and the Dominos</a></li>\n",
    "<li><a href=\"/wiki/J._J._Cale\" title=\"J. J. Cale\">J. J. Cale</a></li>\n",
    "<li><a href=\"/wiki/B.B._King\" title=\"B.B. King\">B.B. King</a></li></ul>\n",
    "</div></td></tr><tr><td colspan=\"2\"></td></tr><tr><th scope=\"row\">Website</th><td><span class=\"url\"><a rel=\"nofollow\" class=\"external text\" href=\"http://ericclapton.com\">ericclapton<wbr>.com</a></span></td></tr></tbody></table>"
   ]
  },
  {
   "cell_type": "markdown",
   "metadata": {},
   "source": [
    "## Import libraries"
   ]
  },
  {
   "cell_type": "code",
   "execution_count": 58,
   "metadata": {},
   "outputs": [],
   "source": [
    "## import library for requests\n",
    "import requests\n",
    "\n",
    "## import beautiful soup library\n",
    "from bs4 import BeautifulSoup\n",
    "\n",
    "\n",
    "## Check the URL \n",
    "URL = 'https://en.wikipedia.org/wiki/Stevie_Ray_Vaughan'\n",
    "page = requests.get(URL)\n",
    "\n",
    "## save the content in a variable\n",
    "soup = BeautifulSoup(page.content, 'html.parser')\n"
   ]
  },
  {
   "cell_type": "markdown",
   "metadata": {},
   "source": [
    "## Check the structure information"
   ]
  },
  {
   "cell_type": "markdown",
   "metadata": {},
   "source": [
    "## Get the name\n",
    "<table class=\"infobox biography vcard\" style=\"width:22em\"><tbody><tr><th colspan=\"2\" style=\"text-align:center;font-size:125%;font-weight:bold\"><div class=\"fn\" style=\"display:inline\">Eric Clapton</div>\n",
    "\n",
    "## Get the other info\n",
    "<tr><th scope=\"row\">Born</th><td><div style=\"display:inline\" class=\"nickname\">Eric Patrick Clapton</div><br><span style=\"display:none\"> (<span class=\"bday\">1945-03-30</span>) </span>30 March 1945<span class=\"noprint ForceAgeToShow\"> (age&nbsp;75)</span><br><div style=\"display:inline\" class=\"birthplace\"><a href=\"/wiki/Ripley,_Surrey\" title=\"Ripley, Surrey\">Ripley, Surrey</a>, England</div></td></tr><tr><th scope=\"row\">Occupation</th><td class=\"role\"><div class=\"hlist hlist-separated\">\n",
    "<ul><li>Musician</li>\n",
    "<li>singer</li>\n",
    "<li>songwriter</li>\n",
    "<li>record producer</li></ul>\n"
   ]
  },
  {
   "cell_type": "code",
   "execution_count": 59,
   "metadata": {},
   "outputs": [
    {
     "name": "stdout",
     "output_type": "stream",
     "text": [
      "[<table class=\"infobox biography vcard\" style=\"width:22em\"><tbody><tr><th colspan=\"2\" style=\"text-align:center;font-size:125%;font-weight:bold\"><div class=\"fn\" style=\"display:inline\">Stevie Ray Vaughan</div></th></tr><tr><td colspan=\"2\" style=\"text-align:center\"><a class=\"image\" href=\"/wiki/File:Stevie_Ray_Vaughan,_1989.jpg\" title=\"Stevie Ray Vaughan performing on Austin City Limits (1989)\"><img alt=\"Stevie Ray Vaughan performing on Austin City Limits (1989)\" data-file-height=\"400\" data-file-width=\"272\" decoding=\"async\" height=\"324\" src=\"//upload.wikimedia.org/wikipedia/commons/thumb/5/57/Stevie_Ray_Vaughan%2C_1989.jpg/220px-Stevie_Ray_Vaughan%2C_1989.jpg\" srcset=\"//upload.wikimedia.org/wikipedia/commons/5/57/Stevie_Ray_Vaughan%2C_1989.jpg 1.5x\" width=\"220\"/></a><div>Vaughan performing on the television show <i><a href=\"/wiki/Austin_City_Limits\" title=\"Austin City Limits\">Austin City Limits</a></i> in 1989</div></td></tr><tr><th scope=\"row\">Born</th><td><div class=\"nickname\" style=\"display:inline\">Stephen Ray Vaughan</div><br/><span style=\"display:none\">(<span class=\"bday\">1954-10-03</span>)</span>October 3, 1954<br/><div class=\"birthplace\" style=\"display:inline\"><a class=\"mw-redirect\" href=\"/wiki/Dallas,_Texas\" title=\"Dallas, Texas\">Dallas, Texas</a>, U.S.</div></td></tr><tr><th scope=\"row\">Died</th><td>August 27, 1990<span style=\"display:none\">(1990-08-27)</span> (aged 35)<br/><div class=\"deathplace\" style=\"display:inline\"><a href=\"/wiki/East_Troy,_Wisconsin\" title=\"East Troy, Wisconsin\">East Troy, Wisconsin</a>, U.S.</div></td></tr><tr><th scope=\"row\">Cause of death</th><td>Helicopter crash</td></tr><tr><th scope=\"row\">Resting place</th><td class=\"label\">Laurel Land Memorial Park<br/>Dallas, Texas<br/><span class=\"plainlinks nourlexpansion\"><a class=\"external text\" href=\"//geohack.toolforge.org/geohack.php?pagename=Stevie_Ray_Vaughan&amp;params=32_40.417_N_96_48.771_W_\" rel=\"nofollow\"><span class=\"geo-default\"><span class=\"geo-dms\" title=\"Maps, aerial photos, and other data for this location\"><span class=\"latitude\">32°40.417′N</span> <span class=\"longitude\">96°48.771′W</span></span></span><span class=\"geo-multi-punct\">﻿ / ﻿</span><span class=\"geo-nondefault\"><span class=\"geo-dec\" title=\"Maps, aerial photos, and other data for this location\">32.673617°N 96.812850°W</span><span style=\"display:none\">﻿ / <span class=\"geo\">32.673617; -96.812850</span></span></span></a></span></td></tr><tr><th scope=\"row\">Other names</th><td class=\"nickname\">Stevie Vaughan</td></tr><tr><th scope=\"row\">Education</th><td><a href=\"/wiki/Justin_F._Kimball_High_School\" title=\"Justin F. Kimball High School\">Justin F. Kimball High School</a></td></tr><tr><th scope=\"row\">Occupation</th><td class=\"role\">Musician, singer, songwriter, record producer</td></tr><tr><th scope=\"row\"><span class=\"nowrap\">Spouse(s)</span></th><td><div class=\"plainlist\"><ul><li><div style=\"display:inline;white-space:nowrap;\"><div style=\"display:inline-block;line-height:normal;margin-top:1px;white-space:normal;\">Lenora Bailey</div>\n",
      "<div style=\"line-height:0;margin-bottom:-2px;\">​</div> <div style=\"display:inline-block;margin-bottom:1px;\">​</div>(<abbr title=\"married\">m.</abbr> <span class=\"rt-commentedText\" title=\"23 December 1979\">1979</span>; <abbr title=\"divorced\">div.</abbr> <span class=\"rt-commentedText\" title=\"1 June 1988\">1988</span>)<wbr/>​</div></li></ul></div></td></tr><tr><th scope=\"row\"><span class=\"nowrap\">Partner(s)</span></th><td>Lindi Bethel (1973–1979)<br/>Janna Lapidus (1986–1990)</td></tr><tr><th scope=\"row\">Parent(s)</th><td>James Lee Vaughan (b. 1921), Martha Jean Cook (b. 1928)</td></tr><tr><th scope=\"row\">Relatives</th><td><a href=\"/wiki/Jimmie_Vaughan\" title=\"Jimmie Vaughan\">Jimmie Vaughan</a> (brother)</td></tr><tr><th scope=\"row\">Awards</th><td><a href=\"/wiki/List_of_awards_and_nominations_received_by_Stevie_Ray_Vaughan\" title=\"List of awards and nominations received by Stevie Ray Vaughan\">List of awards and nominations</a></td></tr><tr><td colspan=\"2\" style=\"text-align:center\"><b>Musical career</b></td></tr><tr><th scope=\"row\">Genres</th><td><div class=\"hlist hlist-separated\">\n",
      "<ul><li><a href=\"/wiki/Blues\" title=\"Blues\">Blues</a></li>\n",
      "<li><a href=\"/wiki/Blues_rock\" title=\"Blues rock\">blues rock</a></li>\n",
      "<li><a href=\"/wiki/Electric_blues\" title=\"Electric blues\">electric blues</a></li>\n",
      "<li><a href=\"/wiki/Texas_blues\" title=\"Texas blues\">Texas blues</a></li></ul>\n",
      "</div></td></tr><tr><th scope=\"row\">Instruments</th><td class=\"note\"><div class=\"hlist hlist-separated\">\n",
      "<ul><li>Guitar</li>\n",
      "<li>vocals</li></ul>\n",
      "</div></td></tr><tr><th scope=\"row\"><span class=\"nowrap\">Years active</span></th><td>1965–1990</td></tr><tr><th scope=\"row\">Labels</th><td><div class=\"hlist hlist-separated\">\n",
      "<ul><li><a href=\"/wiki/Epic_Records\" title=\"Epic Records\">Epic</a></li>\n",
      "<li><a href=\"/wiki/Legacy_Recordings\" title=\"Legacy Recordings\">Legacy</a></li>\n",
      "<li><a class=\"mw-redirect\" href=\"/wiki/Sony_Music_Entertainment\" title=\"Sony Music Entertainment\">Sony</a></li></ul>\n",
      "</div></td></tr><tr><th scope=\"row\"><span class=\"nowrap\">Associated acts</span></th><td><div class=\"hlist hlist-separated\">\n",
      "<ul><li><a href=\"/wiki/Double_Trouble_(band)\" title=\"Double Trouble (band)\">Double Trouble</a></li>\n",
      "<li><a class=\"mw-redirect\" href=\"/wiki/The_Vaughan_Brothers\" title=\"The Vaughan Brothers\">The Vaughan Brothers</a></li>\n",
      "<li><a href=\"/wiki/Lonnie_Mack\" title=\"Lonnie Mack\">Lonnie Mack</a></li>\n",
      "<li><a href=\"/wiki/Doyle_Bramhall\" title=\"Doyle Bramhall\">Doyle Bramhall</a></li>\n",
      "<li><a href=\"/wiki/David_Bowie\" title=\"David Bowie\">David Bowie</a></li></ul>\n",
      "</div></td></tr><tr><td colspan=\"2\"></td></tr><tr><th scope=\"row\">Website</th><td><span class=\"url\"><a class=\"external text\" href=\"http://srvofficial.com\" rel=\"nofollow\">srvofficial<wbr/>.com</a></span></td></tr><tr><th colspan=\"2\" style=\"text-align:center\">Signature</th></tr><tr><td colspan=\"2\" style=\"text-align:center\"><a class=\"image\" href=\"/wiki/File:Stevie_Ray_Vaughan_signature.svg\"><img alt=\"Stevie Ray Vaughan signature.svg\" data-file-height=\"504\" data-file-width=\"1600\" decoding=\"async\" height=\"47\" src=\"//upload.wikimedia.org/wikipedia/commons/thumb/3/3d/Stevie_Ray_Vaughan_signature.svg/150px-Stevie_Ray_Vaughan_signature.svg.png\" srcset=\"//upload.wikimedia.org/wikipedia/commons/thumb/3/3d/Stevie_Ray_Vaughan_signature.svg/225px-Stevie_Ray_Vaughan_signature.svg.png 1.5x, //upload.wikimedia.org/wikipedia/commons/thumb/3/3d/Stevie_Ray_Vaughan_signature.svg/300px-Stevie_Ray_Vaughan_signature.svg.png 2x\" width=\"150\"/></a></td></tr></tbody></table>]\n"
     ]
    }
   ],
   "source": [
    "results = soup.find_all('table', class_='infobox biography vcard')\n",
    "print(results)\n",
    "\n"
   ]
  },
  {
   "cell_type": "code",
   "execution_count": 77,
   "metadata": {},
   "outputs": [
    {
     "name": "stdout",
     "output_type": "stream",
     "text": [
      "Name: Stevie Ray Vaughan\n",
      "\n",
      "Birthday: 1954-10-03\n",
      "\n"
     ]
    }
   ],
   "source": [
    "\n",
    "#Show the name and birthday\n",
    "for link in results:\n",
    "    name = soup.find(\"div\",class_=\"fn\")\n",
    "    bday = soup.find(\"span\",class_=\"bday\")\n",
    "       \n",
    "    print(\"Name: {}\".format(name.text), end='\\n'*2)\n",
    "    print(\"Birthday: {}\".format(bday.text), end='\\n'*2)\n"
   ]
  },
  {
   "cell_type": "code",
   "execution_count": null,
   "metadata": {},
   "outputs": [],
   "source": []
  },
  {
   "cell_type": "code",
   "execution_count": null,
   "metadata": {},
   "outputs": [],
   "source": []
  }
 ],
 "metadata": {
  "kernelspec": {
   "display_name": "Python 3",
   "language": "python",
   "name": "python3"
  },
  "language_info": {
   "codemirror_mode": {
    "name": "ipython",
    "version": 3
   },
   "file_extension": ".py",
   "mimetype": "text/x-python",
   "name": "python",
   "nbconvert_exporter": "python",
   "pygments_lexer": "ipython3",
   "version": "3.7.6"
  }
 },
 "nbformat": 4,
 "nbformat_minor": 4
}
