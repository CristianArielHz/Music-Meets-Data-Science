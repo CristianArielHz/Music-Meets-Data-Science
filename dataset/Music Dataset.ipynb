{
 "cells": [
  {
   "cell_type": "markdown",
   "metadata": {},
   "source": [
    "## Import libraries"
   ]
  },
  {
   "cell_type": "code",
   "execution_count": 125,
   "metadata": {},
   "outputs": [],
   "source": [
    "## import library for requests\n",
    "import requests\n",
    "\n",
    "## import beautiful soup library\n",
    "from bs4 import BeautifulSoup\n",
    "\n",
    "## import pandas for create dataset\n",
    "import pandas as pd\n",
    "\n",
    "## import library to use for get zodiac sign of artist\n",
    "from bisect import bisect\n",
    "\n",
    "from datetime import datetime\n",
    "from datetime import date\n"
   ]
  },
  {
   "cell_type": "markdown",
   "metadata": {},
   "source": [
    "## Create a function for get the sign of each artist"
   ]
  },
  {
   "cell_type": "code",
   "execution_count": 126,
   "metadata": {},
   "outputs": [],
   "source": [
    "signs = [(1,20,\"Cap\"), (2,18,\"Aqu\"), (3,20,\"Pis\"), (4,20,\"Ari\"),\n",
    "         (5,21,\"Tau\"), (6,21,\"Gem\"), (7,22,\"Can\"), (8,23,\"Leo\"),\n",
    "         (9,23,\"Vir\"), (10,23,\"Lib\"), (11,22,\"Sco\"), (12,22,\"Sag\"),\n",
    "         (12,31,\"Cap\")]\n",
    "def zodiac_sign(m,d):\n",
    "    return signs[bisect(signs,(m,d))][2]"
   ]
  },
  {
   "cell_type": "markdown",
   "metadata": {},
   "source": [
    "## Create a function get the data"
   ]
  },
  {
   "cell_type": "code",
   "execution_count": 153,
   "metadata": {},
   "outputs": [],
   "source": [
    "def get_info(musician):\n",
    " \n",
    "  ## Check the URL \n",
    "  URL = 'https://en.wikipedia.org/wiki/'+ musician\n",
    "  page = requests.get(URL)\n",
    "\n",
    "  if page.status_code == 200:\n",
    "     ## save the content in a variable\n",
    "     soup = BeautifulSoup(page.content, 'html.parser')\n",
    "  \n",
    "     ## Get the table \n",
    "     # posible class tables : \"infobox biography vcard\",\"infobox vcard plainlist\"  \n",
    "     results = soup.find_all('table', class_='infobox biography vcard') \n",
    " \n",
    "        \n",
    "     if results ==[]:\n",
    "        results = soup.find_all('table', class_='infobox vcard plainlist')\n",
    "    \n",
    "  \n",
    "     #Show the name,birthday and sign\n",
    "     for link in results:\n",
    "        name = soup.find(\"div\",class_=\"fn\")\n",
    "        description = soup.find_all(\"p\",limit=2)\n",
    "        bday = soup.find(\"span\",class_=\"bday\")\n",
    "      \n",
    "        #Convert bday to datetime\n",
    "        date_bday = datetime.strptime(bday.text,'%Y-%m-%d')\n",
    "    \n",
    "        artists = []\n",
    "        musician={}\n",
    "        musician[\"Name\"]=\"{}\".format(name.text)\n",
    "        musician[\"Birthday\"]=\"{}\".format(bday.text)\n",
    "        musician[\"Sign\"]=\"{}\".format(zodiac_sign(date_bday.month,date_bday.day))  \n",
    " \n",
    "        return musician\n",
    "  else:\n",
    "    print(\"page not found\")"
   ]
  },
  {
   "cell_type": "code",
   "execution_count": 182,
   "metadata": {},
   "outputs": [
    {
     "name": "stdout",
     "output_type": "stream",
     "text": [
      "the page not exists\n"
     ]
    },
    {
     "ename": "StopIteration",
     "evalue": "",
     "output_type": "error",
     "traceback": [
      "\u001b[0;31m---------------------------------------------------------------------------\u001b[0m",
      "\u001b[0;31mStopIteration\u001b[0m                             Traceback (most recent call last)",
      "\u001b[0;32m<ipython-input-182-6c23e00eed11>\u001b[0m in \u001b[0;36m<module>\u001b[0;34m\u001b[0m\n\u001b[1;32m      6\u001b[0m     \u001b[0minfo\u001b[0m \u001b[0;34m=\u001b[0m \u001b[0mget_info\u001b[0m\u001b[0;34m(\u001b[0m\u001b[0martist\u001b[0m\u001b[0;34m)\u001b[0m\u001b[0;34m\u001b[0m\u001b[0;34m\u001b[0m\u001b[0m\n\u001b[1;32m      7\u001b[0m     \u001b[0;32mif\u001b[0m \u001b[0minfo\u001b[0m \u001b[0;32mis\u001b[0m \u001b[0;32mNone\u001b[0m\u001b[0;34m:\u001b[0m\u001b[0;34m\u001b[0m\u001b[0;34m\u001b[0m\u001b[0m\n\u001b[0;32m----> 8\u001b[0;31m         \u001b[0mnext\u001b[0m\u001b[0;34m(\u001b[0m\u001b[0martists\u001b[0m\u001b[0;34m)\u001b[0m\u001b[0;34m\u001b[0m\u001b[0;34m\u001b[0m\u001b[0m\n\u001b[0m\u001b[1;32m      9\u001b[0m     \u001b[0mlist_artists\u001b[0m\u001b[0;34m.\u001b[0m\u001b[0mappend\u001b[0m\u001b[0;34m(\u001b[0m\u001b[0minfo\u001b[0m\u001b[0;34m)\u001b[0m\u001b[0;34m\u001b[0m\u001b[0;34m\u001b[0m\u001b[0m\n",
      "\u001b[0;31mStopIteration\u001b[0m: "
     ]
    }
   ],
   "source": [
    "# create a dataset \n",
    "artists=iter(\"Jimi_Hendrix\",\"Joss_Stone\",\"David_Gilmour\",\"Carlos_Santana\",\"Stevie_Ray_Vaughan\")\n",
    "\n",
    "list_artists=[]\n",
    "for artist in artists:\n",
    "    info = get_info(artist)   \n",
    "    list_artists.append(info)"
   ]
  },
  {
   "cell_type": "code",
   "execution_count": null,
   "metadata": {},
   "outputs": [],
   "source": [
    "data = pd.DataFrame.from_dict(list_artists)"
   ]
  },
  {
   "cell_type": "code",
   "execution_count": null,
   "metadata": {},
   "outputs": [],
   "source": [
    "data.head(10)"
   ]
  },
  {
   "cell_type": "code",
   "execution_count": null,
   "metadata": {},
   "outputs": [],
   "source": []
  },
  {
   "cell_type": "code",
   "execution_count": null,
   "metadata": {},
   "outputs": [],
   "source": []
  }
 ],
 "metadata": {
  "kernelspec": {
   "display_name": "Python 3",
   "language": "python",
   "name": "python3"
  },
  "language_info": {
   "codemirror_mode": {
    "name": "ipython",
    "version": 3
   },
   "file_extension": ".py",
   "mimetype": "text/x-python",
   "name": "python",
   "nbconvert_exporter": "python",
   "pygments_lexer": "ipython3",
   "version": "3.7.6"
  }
 },
 "nbformat": 4,
 "nbformat_minor": 4
}
