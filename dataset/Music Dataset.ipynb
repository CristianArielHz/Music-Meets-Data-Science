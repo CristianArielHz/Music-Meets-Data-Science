{
 "cells": [
  {
   "cell_type": "markdown",
   "metadata": {},
   "source": [
    "## Import libraries"
   ]
  },
  {
   "cell_type": "code",
   "execution_count": 2,
   "metadata": {},
   "outputs": [],
   "source": [
    "## import library for requests\n",
    "import requests\n",
    "\n",
    "## import beautiful soup library\n",
    "from bs4 import BeautifulSoup\n",
    "\n",
    "## import library for convert dict to json\n",
    "import json\n",
    "\n",
    "## Check the URL \n",
    "URL = 'https://en.wikipedia.org/wiki/David_Gilmour'\n",
    "page = requests.get(URL)\n",
    "\n",
    "## save the content in a variable\n",
    "soup = BeautifulSoup(page.content, 'html.parser')\n",
    "\n",
    "## import pandas for create dataset\n",
    "import pandas as pd\n",
    "\n",
    "## import library to use for get zodiac sign of artist\n",
    "from bisect import bisect\n",
    "\n",
    "from datetime import datetime\n",
    "from datetime import date\n"
   ]
  },
  {
   "cell_type": "markdown",
   "metadata": {},
   "source": [
    "## Create a function get the data"
   ]
  },
  {
   "cell_type": "code",
   "execution_count": 3,
   "metadata": {},
   "outputs": [],
   "source": [
    "signs = [(1,20,\"Cap\"), (2,18,\"Aqu\"), (3,20,\"Pis\"), (4,20,\"Ari\"),\n",
    "         (5,21,\"Tau\"), (6,21,\"Gem\"), (7,22,\"Can\"), (8,23,\"Leo\"),\n",
    "         (9,23,\"Vir\"), (10,23,\"Lib\"), (11,22,\"Sco\"), (12,22,\"Sag\"),\n",
    "         (12,31,\"Cap\")]\n",
    "def zodiac_sign(m,d):\n",
    "    return signs[bisect(signs,(m,d))][2]"
   ]
  },
  {
   "cell_type": "code",
   "execution_count": 113,
   "metadata": {},
   "outputs": [],
   "source": [
    "# Create a function for get the data\n",
    "def get_info(musician):\n",
    " \n",
    "  ## Check the URL \n",
    "  URL = 'https://en.wikipedia.org/wiki/'+ musician\n",
    "  page = requests.get(URL)\n",
    "\n",
    "  ## save the content in a variable\n",
    "  soup = BeautifulSoup(page.content, 'html.parser')\n",
    "  \n",
    "  ## Get the table \n",
    "  # posible class tables : \"infobox biography vcard\",\"infobox vcard plainlist\"  \n",
    "  results = soup.find_all('table', class_='infobox biography vcard') \n",
    " \n",
    "        \n",
    "  if results ==[]:\n",
    "        results = soup.find_all('table', class_='infobox vcard plainlist')\n",
    "    \n",
    "  \n",
    "  #Show the name,birthday,birthplace,roles,instruments and website \n",
    "  for link in results:\n",
    "    name = soup.find(\"div\",class_=\"fn\")\n",
    "    description = soup.find_all(\"p\",limit=2)\n",
    "    bday = soup.find(\"span\",class_=\"bday\")\n",
    "      \n",
    "     #Convert bday to datetime\n",
    "    date_bday = datetime.strptime(bday.text,'%Y-%m-%d')\n",
    "    \n",
    "    artists = []\n",
    "    musician={}\n",
    "    musician[\"Name\"]=\"{}\".format(name.text)\n",
    "    musician[\"Birthday\"]=\"{}\".format(bday.text)\n",
    "    musician[\"Sign\"]=\"{}\".format(zodiac_sign(date_bday.month,date_bday.day))\n",
    "   \n",
    "\n",
    "  \n",
    "    return musician\n"
   ]
  },
  {
   "cell_type": "code",
   "execution_count": 114,
   "metadata": {},
   "outputs": [
    {
     "data": {
      "text/plain": [
       "{'Name': 'Joss Stone', 'Birthday': '1987-04-11', 'Sign': 'Ari'}"
      ]
     },
     "execution_count": 114,
     "metadata": {},
     "output_type": "execute_result"
    }
   ],
   "source": [
    "get_info(\"Joss_Stone\")"
   ]
  },
  {
   "cell_type": "code",
   "execution_count": 83,
   "metadata": {},
   "outputs": [],
   "source": [
    "\n",
    "\n"
   ]
  },
  {
   "cell_type": "code",
   "execution_count": 84,
   "metadata": {},
   "outputs": [
    {
     "data": {
      "text/plain": [
       "'Gem'"
      ]
     },
     "execution_count": 84,
     "metadata": {},
     "output_type": "execute_result"
    }
   ],
   "source": [
    "zodiac_sign(5,29)"
   ]
  },
  {
   "cell_type": "code",
   "execution_count": null,
   "metadata": {},
   "outputs": [],
   "source": []
  }
 ],
 "metadata": {
  "kernelspec": {
   "display_name": "Python 3",
   "language": "python",
   "name": "python3"
  },
  "language_info": {
   "codemirror_mode": {
    "name": "ipython",
    "version": 3
   },
   "file_extension": ".py",
   "mimetype": "text/x-python",
   "name": "python",
   "nbconvert_exporter": "python",
   "pygments_lexer": "ipython3",
   "version": "3.7.6"
  }
 },
 "nbformat": 4,
 "nbformat_minor": 4
}
