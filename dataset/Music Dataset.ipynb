{
 "cells": [
  {
   "cell_type": "markdown",
   "metadata": {},
   "source": [
    "## Import libraries"
   ]
  },
  {
   "cell_type": "code",
   "execution_count": 8,
   "metadata": {},
   "outputs": [],
   "source": [
    "## import library for requests\n",
    "import requests\n",
    "\n",
    "## import beautiful soup library\n",
    "from bs4 import BeautifulSoup\n",
    "\n",
    "\n",
    "## Check the URL \n",
    "URL = 'https://en.wikipedia.org/wiki/David_Gilmour'\n",
    "page = requests.get(URL)\n",
    "\n",
    "## save the content in a variable\n",
    "soup = BeautifulSoup(page.content, 'html.parser')\n",
    "\n"
   ]
  },
  {
   "cell_type": "markdown",
   "metadata": {},
   "source": [
    "## Create a function get the data"
   ]
  },
  {
   "cell_type": "code",
   "execution_count": 39,
   "metadata": {},
   "outputs": [],
   "source": [
    "# Create a function for get the data\n",
    "def get_info(musician):\n",
    " \n",
    "  ## Check the URL \n",
    "  URL = 'https://en.wikipedia.org/wiki/'+ musician\n",
    "  page = requests.get(URL)\n",
    "\n",
    "  ## save the content in a variable\n",
    "  soup = BeautifulSoup(page.content, 'html.parser')\n",
    "  \n",
    "  ## Get the table \n",
    "  results = soup.find_all('table', class_='infobox biography vcard')\n",
    "   \n",
    " \n",
    "  #Show the name,birthday,birthplace,roles,instruments and website \n",
    "  for link in results:\n",
    "    name = soup.find(\"div\",class_=\"fn\")\n",
    "    description = soup.find_all(\"p\",limit=2)\n",
    "    bday = soup.find(\"span\",class_=\"bday\")\n",
    "    birthplace = soup.find(\"div\",class_=\"birthplace\")\n",
    "    website = soup.find(\"span\",class_=\"url\")\n",
    "    other_info = soup.find_all(\"div\",class_=\"hlist hlist-separated\")\n",
    "    instruments = soup.find_all(\"td\",class_=\"note\")\n",
    "    roles = soup.find_all('td',class_=\"role\")\n",
    "    other_data = soup.find_all(\"tr\",limit=12)\n",
    "        \n",
    "    print(\"Name: {}\".format(name.text), end='\\n'*2)\n",
    "    print(\"Birthday: {}\".format(bday.text), end='\\n'*2)\n",
    "    print(\"BirthPlace: {}\".format(birthplace.text),end='\\n'*2)\n",
    "   \n",
    "    print(\"Description:\")\n",
    "\n",
    "    for desc in description:\n",
    "      print(\"{}\".format(desc.text),end='\\n'*2)\n",
    "  \n",
    "\n",
    "    for role in roles:\n",
    "      print(\"Roles: {}\".format(role.text),end='\\n'*2)\n",
    "    \n",
    "    for instrument in instruments:\n",
    "      print(\"Instruments: {}\".format(instrument.text),end='\\n'*2)\n",
    "  \n",
    "\n",
    "    for url in website:\n",
    "      print(\"Url: {}\".format(url.get(\"href\")),end='\\n'*2)\n",
    "\n",
    "    print(\"other data:\")    \n",
    "    for dat in other_data:\n",
    "      print(\"{}\".format(dat.text))\n",
    "    \n"
   ]
  },
  {
   "cell_type": "code",
   "execution_count": 38,
   "metadata": {},
   "outputs": [
    {
     "name": "stdout",
     "output_type": "stream",
     "text": [
      "Name: Richie Sambora\n",
      "\n",
      "Birthday: 1959-07-11\n",
      "\n",
      "BirthPlace: Perth Amboy, New Jersey, U.S.\n",
      "\n",
      "Description:\n",
      "\n",
      "\n",
      "\n",
      "Richard Stephen Sambora (born July 11, 1959) is an American rock guitarist, singer, songwriter and producer, best known as the lead guitarist of the rock band Bon Jovi for 30 years. Sambora and lead singer Jon Bon Jovi formed the main songwriting unit for the band. He has also released three solo albums: Stranger in This Town in 1991, Undiscovered Soul in 1998, and Aftermath of the Lowdown released in September 2012.[1]\n",
      "\n",
      "\n",
      "Roles: \n",
      "Musician\n",
      "\n",
      "\n",
      "Instruments: \n",
      "Guitar\n",
      "talkbox\n",
      "mandolin\n",
      "accordion\n",
      "piano\n",
      "vocals\n",
      "\n",
      "\n",
      "Url: http://richiesambora.com\n",
      "\n",
      "other data:\n",
      "Richie Sambora\n",
      "Richie Sambora at the Winter NAMM Show 2017\n",
      "BornRichard Stephen Sambora (1959-07-11) July 11, 1959 (age 61)Perth Amboy, New Jersey, U.S.\n",
      "EducationWoodbridge High School\n",
      "Occupation\n",
      "Musician\n",
      "\n",
      "Years active1977–present\n",
      "Spouse(s)Heather Locklear\n",
      "​ ​(m. 1994; div. 2007)​\n",
      "Partner(s)Orianthi (2014–2018)\n",
      "Children1\n",
      "Musical career\n",
      "Genres\n",
      "Rock\n",
      "hard rock\n",
      "blues rock\n",
      "glam metal\n",
      "heavy metal\n",
      "country rock\n",
      "\n",
      "Instruments\n",
      "Guitar\n",
      "talkbox\n",
      "mandolin\n",
      "accordion\n",
      "piano\n",
      "vocals\n",
      "\n"
     ]
    }
   ],
   "source": [
    "get_info(\"Richie_Sambora\")"
   ]
  },
  {
   "cell_type": "code",
   "execution_count": null,
   "metadata": {},
   "outputs": [],
   "source": []
  },
  {
   "cell_type": "code",
   "execution_count": null,
   "metadata": {},
   "outputs": [],
   "source": []
  },
  {
   "cell_type": "code",
   "execution_count": null,
   "metadata": {},
   "outputs": [],
   "source": []
  }
 ],
 "metadata": {
  "kernelspec": {
   "display_name": "Python 3",
   "language": "python",
   "name": "python3"
  },
  "language_info": {
   "codemirror_mode": {
    "name": "ipython",
    "version": 3
   },
   "file_extension": ".py",
   "mimetype": "text/x-python",
   "name": "python",
   "nbconvert_exporter": "python",
   "pygments_lexer": "ipython3",
   "version": "3.7.6"
  }
 },
 "nbformat": 4,
 "nbformat_minor": 4
}
